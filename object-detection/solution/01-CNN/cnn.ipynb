{
 "cells": [
  {
   "cell_type": "markdown",
   "metadata": {},
   "source": [
    "![](../images/dtlogo.png)"
   ]
  },
  {
   "cell_type": "markdown",
   "metadata": {},
   "source": [
    "# Getting Started with Colab\n",
    "\n",
    "If you are unfamiliar with convolution neural networks, we have made a \"Google Colab Notebook\" for you to get started: [Intro to neural networks with Duckietown](https://colab.research.google.com/drive/12SN3t9bQ60hbzR-qiKkaXjyYRa_jjroT)\n",
    "\n",
    "You should click on the link to open up the notebook on Collab. Then you should click on the \"Copy to Drive\" button at the top left.\n",
    "\n",
    "Then in order to get access to the GPU resources, you should click on the \"Connect\" button at the top right.\n",
    "\n",
    "Afterwards you should see that you have been allocated RAM and disk.\n",
    "\n",
    "Once you have completed the notebook in Colab you can move on to [02 Setup and Data Collection](../../02-Setup-Data-Collection/setup.ipynb).\n",
    "\n"
   ]
  },
  {
   "cell_type": "code",
   "execution_count": null,
   "metadata": {},
   "outputs": [],
   "source": []
  }
 ],
 "metadata": {
  "kernelspec": {
   "display_name": "Python 3",
   "language": "python",
   "name": "python3"
  },
  "language_info": {
   "codemirror_mode": {
    "name": "ipython",
    "version": 3
   },
   "file_extension": ".py",
   "mimetype": "text/x-python",
   "name": "python",
   "nbconvert_exporter": "python",
   "pygments_lexer": "ipython3",
   "version": "3.8.5"
  }
 },
 "nbformat": 4,
 "nbformat_minor": 4
}
