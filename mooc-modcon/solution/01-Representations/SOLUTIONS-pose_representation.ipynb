{
 "cells": [
  {
   "cell_type": "markdown",
   "metadata": {},
   "source": [
    "# 💻 01 - State representation, coordinate systems, and pose (SOLUTIONS)"
   ]
  },
  {
   "cell_type": "code",
   "execution_count": 2,
   "metadata": {},
   "outputs": [],
   "source": [
    "%matplotlib inline\n",
    "import numpy as np\n",
    "import matplotlib.pyplot as  plt"
   ]
  },
  {
   "cell_type": "code",
   "execution_count": 4,
   "metadata": {},
   "outputs": [
    {
     "name": "stdout",
     "output_type": "stream",
     "text": [
      "[[ 0.5       -0.8660254  2.       ]\n",
      " [ 0.8660254  0.5        3.       ]\n",
      " [ 0.         0.         1.       ]]\n"
     ]
    }
   ],
   "source": [
    "# TODO: type your answer here\n",
    "theta = np.deg2rad(60)\n",
    "p = np.array([\n",
    "    [np.cos(theta), -np.sin(theta), 2],\n",
    "    [np.sin(theta), np.cos(theta), 3],\n",
    "    [0, 0, 1]\n",
    "])\n",
    "\n",
    "print(p)"
   ]
  },
  {
   "cell_type": "markdown",
   "metadata": {},
   "source": [
    "# II: Moving between frames"
   ]
  },
  {
   "cell_type": "code",
   "execution_count": 5,
   "metadata": {},
   "outputs": [],
   "source": [
    "# Run this cell to initialize the problem\n",
    "\n",
    "duckie_pos_g = np.array([2, 0.4])   # Position of Duckiebot in map/global frame\n",
    "duckie_or_g = 110                   # Orientation of Duckiebot in map/global frame (in degrees)\n",
    "obstacle_dist_to_duckie = 0.3       # Obstacle distance to the Duckiebot\n",
    "obstacle_angle = 50                 # Obstacle angle with respect to Duckiebot (in degrees)"
   ]
  },
  {
   "cell_type": "code",
   "execution_count": 6,
   "metadata": {},
   "outputs": [
    {
     "name": "stdout",
     "output_type": "stream",
     "text": [
      "[1.71809221 0.50260604]\n"
     ]
    }
   ],
   "source": [
    "# TODO: write your code here to compute the answer\n",
    "rot_in_rad_a = np.deg2rad(duckie_or_g) # (np.pi * duckie_or_g) / 180.\n",
    "rot_in_rad_b = np.deg2rad(obstacle_angle) # (np.pi * obstacle_angle) / 180.\n",
    "\n",
    "# Transformation matrix from origin (o) to the duckie (a)\n",
    "T_oa = np.array(([np.cos(rot_in_rad_a),-np.sin(rot_in_rad_a),duckie_pos_g[0]],\n",
    "                 [np.sin(rot_in_rad_a),np.cos(rot_in_rad_a),duckie_pos_g[1]],\n",
    "                 [0, 0, 1]))\n",
    "\n",
    "# Transformation matrix from duckie (a) to the obstacle (b)\n",
    "dx = obstacle_dist_to_duckie * np.cos(rot_in_rad_b)\n",
    "dy = obstacle_dist_to_duckie * np.sin(rot_in_rad_b)\n",
    "T_ab =  np.array(([np.cos(rot_in_rad_b),-np.sin(rot_in_rad_b),dx],\n",
    "                 [np.sin(rot_in_rad_b),np.cos(rot_in_rad_b),dy],\n",
    "                 [0, 0, 1]))\n",
    "\n",
    "# Compute transformation matrix from origin (o) to the obstacle (b)\n",
    "T_ob = np.dot(T_oa,T_ab) # T_ob = (T_oa)(T_ab)\n",
    "\n",
    "# TODO: put your answer here instead of None, None (position of obstacle in global frame)\n",
    "obstacle_pos_g = np.array([T_ob[0,2], T_ob[1,2]])    \n",
    "print(obstacle_pos_g)"
   ]
  },
  {
   "cell_type": "code",
   "execution_count": 5,
   "metadata": {},
   "outputs": [],
   "source": [
    "### Run this cell to initialize the problem\n",
    "\n",
    "duckie_pos_g = np.array([3.5, -1.2])   # Position of Duckiebot in global frame\n",
    "duckie_or_g = 45                       # Orientation of Duckiebot in global frame (degrees)\n",
    "obstacle_pos_g = np.array([4, -1])     # Position of obstacle in global frame"
   ]
  },
  {
   "cell_type": "code",
   "execution_count": 6,
   "metadata": {},
   "outputs": [
    {
     "name": "stdout",
     "output_type": "stream",
     "text": [
      "[ 0.49497475 -0.21213203]\n"
     ]
    }
   ],
   "source": [
    "# TODO: write your code here to compute the answer\n",
    "rot_in_rad_a = (np.pi * duckie_or_g) / 180.\n",
    "T_oa = np.array(([np.cos(rot_in_rad_a),-np.sin(rot_in_rad_a),duckie_pos_g[0]],\n",
    "                 [np.sin(rot_in_rad_a),np.cos(rot_in_rad_a),duckie_pos_g[1]],\n",
    "                 [0, 0, 1])) # Transformation matrix from origin (o) to the duckie (a)\n",
    "T_ob = np.array(([1, 0, obstacle_pos_g[0]],\n",
    "                 [0, 1, obstacle_pos_g[1]],\n",
    "                 [0, 0, 1])) # Transformation matrix from origin (o) to the obstacle (b)\n",
    "T_ab = np.dot(np.linalg.inv(T_oa),T_ob)\n",
    "\n",
    "# TODO: put your answer here instead of None, None (position of obstacle in global frame)\n",
    "obstacle_pos_r = np.array([T_ab[0,2], T_ab[1,2]])   \n",
    "print(obstacle_pos_r)"
   ]
  },
  {
   "cell_type": "code",
   "execution_count": null,
   "metadata": {},
   "outputs": [],
   "source": []
  }
 ],
 "metadata": {
  "kernelspec": {
   "display_name": "Python 3",
   "language": "python",
   "name": "python3"
  },
  "language_info": {
   "codemirror_mode": {
    "name": "ipython",
    "version": 3
   },
   "file_extension": ".py",
   "mimetype": "text/x-python",
   "name": "python",
   "nbconvert_exporter": "python",
   "pygments_lexer": "ipython3",
   "version": "3.8.5"
  }
 },
 "nbformat": 4,
 "nbformat_minor": 4
}
